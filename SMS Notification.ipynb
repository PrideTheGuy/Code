{
 "cells": [
  {
   "cell_type": "code",
   "execution_count": 1,
   "metadata": {},
   "outputs": [],
   "source": [
    "# Function to send the SMS messages\n",
    "def send_sms():\n",
    "    client = Client(account_sid, auth_token)\n",
    "    phone_numbers = entry_phone_numbers.get().split(',')  # Extract phone numbers from the entry field\n",
    "    message_body = entry_message_body.get()\n",
    "\n",
    "    for phone_number in phone_numbers:\n",
    "        message = client.messages.create(\n",
    "            body=message_body,\n",
    "            from_=twilio_phone_number,\n",
    "            to=phone_number.strip()\n",
    "        )\n",
    "        output_text.insert(tk.END, f\"SMS sent to {phone_number.strip()}: {message.sid}\\n\")\n",
    "\n",
    "# Create the main window\n",
    "window = tk.Tk()\n",
    "window.title(\"Twilio SMS Integration\")\n",
    "window.geometry(\"400x300\")\n",
    "\n",
    "# Create labels and entry fields\n",
    "label_phone_numbers = tk.Label(window, text=\"Phone Numbers (comma-separated):\")\n",
    "label_phone_numbers.pack()\n",
    "entry_phone_numbers = tk.Entry(window)\n",
    "entry_phone_numbers.pack()\n",
    "\n",
    "label_message_body = tk.Label(window, text=\"Message Body:\")\n",
    "label_message_body.pack()\n",
    "entry_message_body = tk.Entry(window)\n",
    "entry_message_body.pack()\n",
    "\n",
    "# Create a button to send the SMS messages\n",
    "button_send_sms = tk.Button(window, text=\"Send SMS\", command=send_sms)\n",
    "button_send_sms.pack()\n",
    "\n",
    "# Create a text widget to display the output\n",
    "output_text = tk.Text(window, height=10, width=40)\n",
    "output_text.pack()\n",
    "\n",
    "# Start the GUI event loop\n",
    "window.mainloop()\n",
    "\n",
    "\n"
   ]
  }
 ],
 "metadata": {
  "kernelspec": {
   "display_name": "Python 3",
   "language": "python",
   "name": "python3"
  },
  "language_info": {
   "codemirror_mode": {
    "name": "ipython",
    "version": 3
   },
   "file_extension": ".py",
   "mimetype": "text/x-python",
   "name": "python",
   "nbconvert_exporter": "python",
   "pygments_lexer": "ipython3",
   "version": "3.11.3"
  },
  "orig_nbformat": 4
 },
 "nbformat": 4,
 "nbformat_minor": 2
}
