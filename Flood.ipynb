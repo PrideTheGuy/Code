{
 "cells": [
  {
   "cell_type": "code",
   "execution_count": 1,
   "metadata": {},
   "outputs": [
    {
     "data": {
      "application/vnd.jupyter.widget-view+json": {
       "model_id": "2e803750418e4683a651173110ea3a46",
       "version_major": 2,
       "version_minor": 0
      },
      "text/plain": [
       "Map(center=[-22, 17], controls=(ZoomControl(options=['position', 'zoom_in_text', 'zoom_in_title', 'zoom_out_te…"
      ]
     },
     "metadata": {},
     "output_type": "display_data"
    }
   ],
   "source": [
    "import leafmap\n",
    "import geopandas as gpd\n",
    "import psycopg2\n",
    "\n",
    "# Connect to the PostgreSQL database\n",
    "conn = psycopg2.connect(\n",
    "    host=\"localhost\",\n",
    "    database=\"FloodDEM\",\n",
    "    user=\"postgres\",\n",
    "    password=\"12345\"\n",
    ")\n",
    "\n",
    "# Read the shapefiles from the PostgreSQL database\n",
    "shapefiles = [\n",
    "    {\"table_name\": \"township_dd\", \"style\": {\"fillColor\": \"blue\", \"color\": \"black\", \"weight\": 1, \"fillOpacity\": 0.6}},\n",
    "    {\"table_name\": \"whk_psu_region\", \"style\": {\"fillColor\": \"green\", \"color\": \"black\", \"weight\": 1, \"fillOpacity\": 0.6}},\n",
    "    {\"table_name\": \"Windhoek\", \"style\": {\"fillColor\": \"yellow\", \"color\": \"black\", \"weight\": 1, \"fillOpacity\": 0.6}}\n",
    "]\n",
    "\n",
    "# Create a Leafmap Map instance with Namibia as the center and appropriate zoom level\n",
    "m = leafmap.Map(center=(-22, 17), zoom=6)\n",
    "\n",
    "# Loop through the shapefiles\n",
    "for shapefile in shapefiles:\n",
    "    # Read the shapefile from the PostgreSQL database\n",
    "    sql = f\"SELECT *, geom FROM {shapefile['table_name']}\"\n",
    "    gdf = gpd.read_postgis(sql, conn)\n",
    "\n",
    "    # Set the CRS of the GeoDataFrame\n",
    "    gdf.crs = \"EPSG:4326\"\n",
    "\n",
    "    # Add the GeoDataFrame to the map with custom style\n",
    "    m.add_gdf(gdf, layer_name=shapefile['table_name'], style=shapefile['style'])\n",
    "\n",
    "# Display the map\n",
    "m\n",
    "\n"
   ]
  }
 ],
 "metadata": {
  "kernelspec": {
   "display_name": "Python 3",
   "language": "python",
   "name": "python3"
  },
  "language_info": {
   "codemirror_mode": {
    "name": "ipython",
    "version": 3
   },
   "file_extension": ".py",
   "mimetype": "text/x-python",
   "name": "python",
   "nbconvert_exporter": "python",
   "pygments_lexer": "ipython3",
   "version": "3.11.3"
  },
  "orig_nbformat": 4
 },
 "nbformat": 4,
 "nbformat_minor": 2
}
